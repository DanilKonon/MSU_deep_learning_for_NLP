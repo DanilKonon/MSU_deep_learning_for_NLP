{
 "cells": [
  {
   "cell_type": "markdown",
   "metadata": {},
   "source": [
    "# Python tricks and pitfalls"
   ]
  },
  {
   "cell_type": "markdown",
   "metadata": {},
   "source": [
    "В этоб блокноте содержатся полезные приемы и предостережения, которые могут вам пригодиться в нашем курсе"
   ]
  },
  {
   "cell_type": "markdown",
   "metadata": {},
   "source": [
    "##  Magic functions"
   ]
  },
  {
   "cell_type": "markdown",
   "metadata": {},
   "source": [
    "Узнаем список файлов в директории с блокнотом"
   ]
  },
  {
   "cell_type": "code",
   "execution_count": 1,
   "metadata": {},
   "outputs": [
    {
     "name": "stdout",
     "output_type": "stream",
     "text": [
      "names.txt            stopwords.txt            war-and-peace.txt\r\n",
      "sherlock-holmes.txt  tips-and-pitfalls.ipynb\r\n"
     ]
    }
   ],
   "source": [
    "ls"
   ]
  },
  {
   "cell_type": "markdown",
   "metadata": {},
   "source": [
    "Посмотрим на нужный нам текст"
   ]
  },
  {
   "cell_type": "code",
   "execution_count": 2,
   "metadata": {},
   "outputs": [
    {
     "name": "stdout",
     "output_type": "stream",
     "text": [
      "﻿\r",
      "\r\n",
      "The Project Gutenberg EBook of War and Peace, by Leo Tolstoy\r",
      "\r\n",
      "\r",
      "\r\n",
      "This eBook is for the use of anyone anywhere at no cost and with almost\r",
      "\r\n",
      "no restrictions whatsoever. You may copy it, give it away or re-use\r",
      "\r\n",
      "it under the terms of the Project Gutenberg License included with this\r",
      "\r\n",
      "eBook or online at www.gutenberg.org\r",
      "\r\n",
      "\r",
      "\r\n",
      "\r",
      "\r\n",
      "Title: War and Peace\r",
      "\r\n",
      "\r",
      "\r\n",
      "Author: Leo Tolstoy\r",
      "\r\n",
      "\r",
      "\r\n",
      "Translators: Louise and Aylmer Maude\r",
      "\r\n",
      "\r",
      "\r\n",
      "Posting Date: January 10, 2009 [EBook #2600]\r",
      "\r\n",
      "\r",
      "\r\n",
      "Last Updated: December 17, 2016\r",
      "\r\n",
      "\r",
      "\r\n"
     ]
    }
   ],
   "source": [
    "!head -n 19 war-and-peace.txt"
   ]
  },
  {
   "cell_type": "markdown",
   "metadata": {},
   "source": [
    "Измерим время, требуещееся для чтения файла и перевода текста в нижний регистр"
   ]
  },
  {
   "cell_type": "code",
   "execution_count": 3,
   "metadata": {
    "scrolled": true
   },
   "outputs": [
    {
     "name": "stdout",
     "output_type": "stream",
     "text": [
      "CPU times: user 36 ms, sys: 0 ns, total: 36 ms\n",
      "Wall time: 32.9 ms\n"
     ]
    }
   ],
   "source": [
    "%%time\n",
    "\n",
    "with open(\"war-and-peace.txt\", \"r\") as f:\n",
    "    text = f.read().lower()"
   ]
  },
  {
   "cell_type": "markdown",
   "metadata": {},
   "source": [
    "## Loops vs. list comprehensions"
   ]
  },
  {
   "cell_type": "markdown",
   "metadata": {},
   "source": [
    "Удалим знаки препинания из текста, это можно сделать с использованием цикла или списочного выражения. Измерять время выполнения для для небольших функций предпочтительнее через метод timeit"
   ]
  },
  {
   "cell_type": "code",
   "execution_count": 4,
   "metadata": {},
   "outputs": [
    {
     "name": "stdout",
     "output_type": "stream",
     "text": [
      "!\"#$%&'()*+,-./:;<=>?@[\\]^_`{|}~\n"
     ]
    }
   ],
   "source": [
    "from string import punctuation\n",
    "\n",
    "print(punctuation)"
   ]
  },
  {
   "cell_type": "code",
   "execution_count": 5,
   "metadata": {},
   "outputs": [
    {
     "name": "stdout",
     "output_type": "stream",
     "text": [
      "298 ms ± 3.99 ms per loop (mean ± std. dev. of 5 runs, 1 loop each)\n"
     ]
    }
   ],
   "source": [
    "%%timeit -n 1 -r 5\n",
    "\n",
    "processed_text = []\n",
    "for letter in text:\n",
    "    if letter not in punctuation:\n",
    "        processed_text.append(letter)"
   ]
  },
  {
   "cell_type": "code",
   "execution_count": 6,
   "metadata": {},
   "outputs": [
    {
     "name": "stdout",
     "output_type": "stream",
     "text": [
      "158 ms ± 2.63 ms per loop (mean ± std. dev. of 5 runs, 1 loop each)\n"
     ]
    }
   ],
   "source": [
    "%%timeit -n 1 -r 5\n",
    "\n",
    "processed_text = [letter for letter in text if letter not in punctuation]"
   ]
  },
  {
   "cell_type": "markdown",
   "metadata": {},
   "source": [
    "## Searching in list vs. searching in set "
   ]
  },
  {
   "cell_type": "markdown",
   "metadata": {},
   "source": [
    "Предположим, мы хотим убрать первые 5000 встреченных нами слов из текста"
   ]
  },
  {
   "cell_type": "code",
   "execution_count": 7,
   "metadata": {},
   "outputs": [],
   "source": [
    "processed_text = ''.join([letter for letter in text if letter not in punctuation])\n",
    "words = processed_text.split()\n",
    "\n",
    "words_to_filter = words[:5000]"
   ]
  },
  {
   "cell_type": "code",
   "execution_count": 8,
   "metadata": {},
   "outputs": [
    {
     "name": "stdout",
     "output_type": "stream",
     "text": [
      "CPU times: user 2.97 s, sys: 0 ns, total: 2.97 s\n",
      "Wall time: 2.96 s\n"
     ]
    }
   ],
   "source": [
    "%%time\n",
    "\n",
    "res = [w for w in words[5000:100000] if w not in words_to_filter]"
   ]
  },
  {
   "cell_type": "markdown",
   "metadata": {},
   "source": [
    "В таком решении есть два проблемы "
   ]
  },
  {
   "cell_type": "markdown",
   "metadata": {},
   "source": [
    "* Список может содержать повторяющиеся слова"
   ]
  },
  {
   "cell_type": "code",
   "execution_count": 9,
   "metadata": {},
   "outputs": [
    {
     "name": "stdout",
     "output_type": "stream",
     "text": [
      "1.16 s ± 7.14 ms per loop (mean ± std. dev. of 5 runs, 1 loop each)\n"
     ]
    }
   ],
   "source": [
    "%%timeit -r 5 -n 1 \n",
    "\n",
    "ls = list(set(words_to_filter))\n",
    "res = [w for w in words[5000:100000] if w not in ls]"
   ]
  },
  {
   "cell_type": "markdown",
   "metadata": {},
   "source": [
    "* Зачем мы ищем в списке?"
   ]
  },
  {
   "cell_type": "code",
   "execution_count": 10,
   "metadata": {},
   "outputs": [
    {
     "name": "stdout",
     "output_type": "stream",
     "text": [
      "8.85 ms ± 2.74 ms per loop (mean ± std. dev. of 5 runs, 1 loop each)\n"
     ]
    }
   ],
   "source": [
    "%%timeit -r 5 -n 1 \n",
    "\n",
    "s = set(words_to_filter)\n",
    "res = [w for w in words[5000:100000] if w not in s]"
   ]
  },
  {
   "cell_type": "markdown",
   "metadata": {},
   "source": [
    "## Counting words in the text "
   ]
  },
  {
   "cell_type": "markdown",
   "metadata": {},
   "source": [
    "Часто встречающийся способ"
   ]
  },
  {
   "cell_type": "code",
   "execution_count": 11,
   "metadata": {},
   "outputs": [],
   "source": [
    "vocab1 = {}\n",
    "for word in words:\n",
    "    if word not in vocab1:\n",
    "        vocab1[word] = 1\n",
    "    else:\n",
    "        vocab1[word] += 1"
   ]
  },
  {
   "cell_type": "markdown",
   "metadata": {},
   "source": [
    "Вариант попроще"
   ]
  },
  {
   "cell_type": "code",
   "execution_count": 12,
   "metadata": {},
   "outputs": [],
   "source": [
    "from collections import defaultdict\n",
    "\n",
    "vocab2 = defaultdict(int)\n",
    "for word in words:\n",
    "    vocab2[word] += 1\n",
    "    \n",
    "vocab2 = dict(vocab2)"
   ]
  },
  {
   "cell_type": "markdown",
   "metadata": {},
   "source": [
    "Самый простой способ"
   ]
  },
  {
   "cell_type": "code",
   "execution_count": 13,
   "metadata": {},
   "outputs": [],
   "source": [
    "from collections import Counter\n",
    "\n",
    "vocab3 = dict(Counter(words).items())"
   ]
  },
  {
   "cell_type": "code",
   "execution_count": 14,
   "metadata": {},
   "outputs": [
    {
     "data": {
      "text/plain": [
       "[('the', 34300),\n",
       " ('and', 21818),\n",
       " ('to', 16587),\n",
       " ('of', 14959),\n",
       " ('a', 10407),\n",
       " ('he', 9655),\n",
       " ('in', 8873),\n",
       " ('his', 7955),\n",
       " ('that', 7639),\n",
       " ('was', 7310),\n",
       " ('with', 5675),\n",
       " ('had', 5349),\n",
       " ('it', 4805),\n",
       " ('her', 4632),\n",
       " ('not', 4593),\n",
       " ('at', 4510),\n",
       " ('him', 4429),\n",
       " ('as', 3955),\n",
       " ('on', 3922),\n",
       " ('but', 3665)]"
      ]
     },
     "execution_count": 14,
     "metadata": {},
     "output_type": "execute_result"
    }
   ],
   "source": [
    "assert vocab1 == vocab2\n",
    "assert vocab2 == vocab3\n",
    "\n",
    "vocab = vocab1\n",
    "\n",
    "sorted(vocab.items(), key=lambda x: x[1], reverse=True)[:20]"
   ]
  },
  {
   "cell_type": "markdown",
   "metadata": {},
   "source": [
    "## Mutable objects pitfalls"
   ]
  },
  {
   "cell_type": "markdown",
   "metadata": {},
   "source": [
    "Рассмотрим корпус из двух предложений и словарь из четырех слов"
   ]
  },
  {
   "cell_type": "code",
   "execution_count": 15,
   "metadata": {},
   "outputs": [],
   "source": [
    "corpus = [\"little tree was in the woods\".split(), \"tree had no leaves it had needles\".split()]\n",
    "vocab = {\"little\": 0, \"tree\": 1, \"woods\": 2, \"needles\": 3, \"UNK\": 4}"
   ]
  },
  {
   "cell_type": "markdown",
   "metadata": {},
   "source": [
    "Мы можем вручную построить BoW-матрицу, начав со слова \"woods\" для первого документа"
   ]
  },
  {
   "cell_type": "code",
   "execution_count": 16,
   "metadata": {},
   "outputs": [
    {
     "name": "stdout",
     "output_type": "stream",
     "text": [
      "Initially empty matrix\n",
      "0 0 0 0 0\n",
      "0 0 0 0 0\n",
      "\n",
      "\n",
      "After modifiying the first row\n",
      "0 0 1 0 0\n",
      "0 0 1 0 0\n",
      "\n",
      "\n"
     ]
    }
   ],
   "source": [
    "def print_bow_matrix(bow, descr=''):\n",
    "    print(descr)\n",
    "    for row in bow:\n",
    "        print(' '.join(str(x) for x in row))\n",
    "    print('\\n')\n",
    "\n",
    "\n",
    "bag_of_words = [[0] * len(vocab)] * len(corpus)\n",
    "\n",
    "print_bow_matrix(bag_of_words, \"Initially empty matrix\")\n",
    "DOC_IDX = 0\n",
    "bag_of_words[DOC_IDX][vocab[\"woods\"]] = 1\n",
    "print_bow_matrix(bag_of_words, \"After modifiying the first row\")"
   ]
  },
  {
   "cell_type": "markdown",
   "metadata": {},
   "source": [
    "Кажется мы заодно добавили \"woods\" в строку второго предложения. При работе со списками нужно соблюдать осторожность."
   ]
  },
  {
   "cell_type": "code",
   "execution_count": 17,
   "metadata": {},
   "outputs": [
    {
     "name": "stdout",
     "output_type": "stream",
     "text": [
      "Initially empty matrix\n",
      "0 0 0 0\n",
      "0 0 0 0\n",
      "\n",
      "\n",
      "After modifiying the first row\n",
      "0 0 1 0\n",
      "0 0 0 0\n",
      "\n",
      "\n"
     ]
    }
   ],
   "source": [
    "bag_of_words = [[0 for _ in range(4)] for __ in range(2)]\n",
    "\n",
    "print_bow_matrix(bag_of_words, \"Initially empty matrix\")\n",
    "DOC_IDX = 0\n",
    "bag_of_words[DOC_IDX][vocab[\"woods\"]] = 1\n",
    "print_bow_matrix(bag_of_words, \"After modifiying the first row\")"
   ]
  },
  {
   "cell_type": "markdown",
   "metadata": {},
   "source": [
    "### Copying mutable objects"
   ]
  },
  {
   "cell_type": "markdown",
   "metadata": {},
   "source": [
    "Теперь предположим, что у вас появился похожий корпус, для которого вы хотите переиспользовать имеющуюся матрицу"
   ]
  },
  {
   "cell_type": "code",
   "execution_count": 18,
   "metadata": {},
   "outputs": [
    {
     "name": "stdout",
     "output_type": "stream",
     "text": [
      "Original matrix\n",
      "0 0 1 0\n",
      "0 0 0 0\n",
      "\n",
      "\n",
      "Modified copy\n",
      "0 0 0 0\n",
      "0 0 0 0\n",
      "\n",
      "\n",
      "Original matrix after the copy was modified\n",
      "0 0 0 0\n",
      "0 0 0 0\n",
      "\n",
      "\n"
     ]
    }
   ],
   "source": [
    "new_corpus = [\"little tree was in the forest\".split(), \"tree had no leaves it had needles\".split()]\n",
    "\n",
    "def modify_copy_bow_matrix(f):\n",
    "    bag_of_words = [[0 for _ in range(4)] for __ in range(2)]\n",
    "    bag_of_words[DOC_IDX][vocab[\"woods\"]] = 1\n",
    "    print_bow_matrix(bag_of_words, \"Original matrix\")\n",
    "    bag_of_words_copy = f(bag_of_words)\n",
    "    bag_of_words_copy[DOC_IDX][vocab[\"woods\"]] = 0\n",
    "    return bag_of_words, bag_of_words_copy\n",
    "    \n",
    "\n",
    "bag_of_words, bag_of_words_copy = modify_copy_bow_matrix(lambda x: x)\n",
    "print_bow_matrix(bag_of_words_copy, \"Modified copy\")\n",
    "print_bow_matrix(bag_of_words, \"Original matrix after the copy was modified\")"
   ]
  },
  {
   "cell_type": "markdown",
   "metadata": {},
   "source": [
    "Возможно нам поможет метод copy()"
   ]
  },
  {
   "cell_type": "code",
   "execution_count": 19,
   "metadata": {},
   "outputs": [
    {
     "name": "stdout",
     "output_type": "stream",
     "text": [
      "Original matrix\n",
      "0 0 1 0\n",
      "0 0 0 0\n",
      "\n",
      "\n",
      "Modified copy\n",
      "0 0 0 0\n",
      "0 0 0 0\n",
      "\n",
      "\n",
      "Original matrix\n",
      "0 0 0 0\n",
      "0 0 0 0\n",
      "\n",
      "\n"
     ]
    }
   ],
   "source": [
    "from copy import copy\n",
    "\n",
    "bag_of_words, bag_of_words_copy = modify_copy_bow_matrix(lambda x: copy(x))\n",
    "print_bow_matrix(bag_of_words_copy, \"Modified copy\")\n",
    "print_bow_matrix(bag_of_words, \"Original matrix\")"
   ]
  },
  {
   "cell_type": "code",
   "execution_count": 20,
   "metadata": {},
   "outputs": [
    {
     "name": "stdout",
     "output_type": "stream",
     "text": [
      "Original matrix\n",
      "0 0 1 0\n",
      "0 0 0 0\n",
      "\n",
      "\n",
      "Modified copy\n",
      "0 0 0 0\n",
      "0 0 0 0\n",
      "\n",
      "\n",
      "Original matrix\n",
      "0 0 1 0\n",
      "0 0 0 0\n",
      "\n",
      "\n"
     ]
    }
   ],
   "source": [
    "from copy import deepcopy\n",
    "\n",
    "bag_of_words, bag_of_words_copy = modify_copy_bow_matrix(lambda x: deepcopy(x))\n",
    "print_bow_matrix(bag_of_words_copy, \"Modified copy\")\n",
    "print_bow_matrix(bag_of_words, \"Original matrix\")"
   ]
  },
  {
   "cell_type": "markdown",
   "metadata": {},
   "source": [
    "### Floating point math pitfall: underflow"
   ]
  },
  {
   "cell_type": "markdown",
   "metadata": {},
   "source": [
    "Допустим, нам известно, что $p(w_i|C) = \\frac{1}{10^i}$ и нам нужно вычислить $\\prod_i p(w_i|C)$"
   ]
  },
  {
   "cell_type": "code",
   "execution_count": 21,
   "metadata": {},
   "outputs": [],
   "source": [
    "probabilities = [10 ** (- x) for x in range(1, 30)]"
   ]
  },
  {
   "cell_type": "code",
   "execution_count": 22,
   "metadata": {},
   "outputs": [
    {
     "name": "stdout",
     "output_type": "stream",
     "text": [
      "The joint probability is: 0.0\n"
     ]
    }
   ],
   "source": [
    "import math\n",
    "\n",
    "def prob_calc(probs):\n",
    "    prob = 1.0\n",
    "    for prob_ in probs:\n",
    "        prob *= prob_\n",
    "    return prob\n",
    "\n",
    "print(\"The joint probability is:\", prob_calc(probabilities))"
   ]
  },
  {
   "cell_type": "code",
   "execution_count": 23,
   "metadata": {},
   "outputs": [
    {
     "name": "stdout",
     "output_type": "stream",
     "text": [
      "The logarithm of joint probability is: -1001.6245154524097\n"
     ]
    }
   ],
   "source": [
    "def log_prob_calc(probs):\n",
    "    prob = 0.0\n",
    "    for prob_ in probs:\n",
    "        prob += math.log(prob_)\n",
    "    return prob\n",
    "\n",
    "print(\"The logarithm of joint probability is:\", log_prob_calc(probabilities))"
   ]
  }
 ],
 "metadata": {
  "kernelspec": {
   "display_name": "Python 3",
   "language": "python",
   "name": "python3"
  },
  "language_info": {
   "codemirror_mode": {
    "name": "ipython",
    "version": 3
   },
   "file_extension": ".py",
   "mimetype": "text/x-python",
   "name": "python",
   "nbconvert_exporter": "python",
   "pygments_lexer": "ipython3",
   "version": "3.6.2"
  }
 },
 "nbformat": 4,
 "nbformat_minor": 2
}
